{
 "cells": [
  {
   "cell_type": "code",
   "execution_count": null,
   "metadata": {},
   "outputs": [],
   "source": [
    "from stmpy import Machine, Driver\n",
    "from IPython.display import display\n",
    "import ipywidgets as widgets\n",
    "\n",
    "class HeadLight:\n",
    "    \n",
    "    # callback method, called by the button 'switch' when it is pressed\n",
    "    def on_value_change(self, change):\n",
    "        if change['new']:\n",
    "            self.stm.send('hand')\n",
    "        else:\n",
    "            self.stm.send('no_hand')\n",
    "    \n",
    "    # called by the initial transition\n",
    "    def __init__(self):\n",
    "        # load images and store them\n",
    "        self.yellow_on = open(\"images/yellow_on.png\", \"rb\").read()\n",
    "        self.yellow_off = open(\"images/yellow_off.png\", \"rb\").read()\n",
    "        # a checkbox to symbolize the IR sensor\n",
    "        self.checkbox = widgets.Checkbox(value=False, description='Hand in front of sensor')\n",
    "        self.checkbox.observe(self.on_value_change, names='value')\n",
    "        # an image of a yellow light\n",
    "        self.yellow = widgets.Image(value=self.yellow_off, format='png', width=50, height=50)\n",
    "        # display everything\n",
    "        display(self.yellow, self.checkbox)\n",
    "    \n",
    "    # called by our transition to turn the light on\n",
    "    def on(self):\n",
    "        # switch on the yellow light\n",
    "        self.yellow.set_trait(name='value', value=self.yellow_on)\n",
    "    \n",
    "    # called by our transition to turn the light on\n",
    "    def off(self):\n",
    "        # switch off the yellow light\n",
    "        self.yellow.set_trait(name='value', value=self.yellow_off)\n",
    "        \n",
    "head_light = HeadLight()"
   ]
  }
 ],
 "metadata": {
  "kernelspec": {
   "display_name": "Python 3",
   "language": "python",
   "name": "python3"
  },
  "language_info": {
   "codemirror_mode": {
    "name": "ipython",
    "version": 3
   },
   "file_extension": ".py",
   "mimetype": "text/x-python",
   "name": "python",
   "nbconvert_exporter": "python",
   "pygments_lexer": "ipython3",
   "version": "3.6.7"
  }
 },
 "nbformat": 4,
 "nbformat_minor": 2
}
