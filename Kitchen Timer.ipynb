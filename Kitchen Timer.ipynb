{
 "cells": [
  {
   "cell_type": "markdown",
   "metadata": {},
   "source": [
    "# State Machine for the Kitchen Timer\n",
    "\n",
    "This is material for the lecture, not part of the mandatory preparation."
   ]
  },
  {
   "cell_type": "code",
   "execution_count": null,
   "metadata": {},
   "outputs": [],
   "source": [
    "from stmpy import Machine, Driver\n",
    "\n",
    "import ipywidgets as widgets\n",
    "from IPython.display import display\n",
    "\n",
    "class KitchenTimer:\n",
    "    \n",
    "    def on_button_press(self, b):\n",
    "        self.stm.send('switch') # <---- here we send a signal\n",
    "            \n",
    "    def __init__(self):\n",
    "        # load images and store them\n",
    "        self.on_60 = open(\"images/timer/on_60.jpg\", \"rb\").read()\n",
    "        self.off_60 = open(\"images/timer/off_60.jpg\", \"rb\").read()\n",
    "        self.on_45 = open(\"images/timer/on_45.jpg\", \"rb\").read()\n",
    "        self.off_45 = open(\"images/timer/off_45.jpg\", \"rb\").read()\n",
    "        self.on_30 = open(\"images/timer/on_30.jpg\", \"rb\").read()\n",
    "        self.off_30 = open(\"images/timer/off_30.jpg\", \"rb\").read()\n",
    "        self.on_15 = open(\"images/timer/on_15.jpg\", \"rb\").read()\n",
    "        self.off_15 = open(\"images/timer/off_15.jpg\", \"rb\").read()\n",
    "        self.plug_on = open(\"images/timer/plug_on.jpg\", \"rb\").read()\n",
    "        self.plug_off = open(\"images/timer/plug_off.jpg\", \"rb\").read()\n",
    "        \n",
    "        self.led_15 = widgets.Image(value=self.off_15, format='jpg', width=50, height=50)\n",
    "        self.led_30 = widgets.Image(value=self.off_30, format='jpg', width=50, height=50)\n",
    "        self.led_45 = widgets.Image(value=self.off_45, format='jpg', width=50, height=50)\n",
    "        self.led_60 = widgets.Image(value=self.off_60, format='jpg', width=50, height=50)\n",
    "        \n",
    "        left_box = widgets.VBox([self.led_60, self.led_45])\n",
    "        right_box = widgets.VBox([self.led_15, self.led_30])\n",
    "        box = widgets.HBox([left_box, right_box])\n",
    "        self.plug = widgets.Image(value=self.plug_off, format='jpg', width=100, height=100)\n",
    "        \n",
    "        # display the user interface\n",
    "        # a button\n",
    "        self.button = widgets.Button(description=\"Button\")\n",
    "        self.button.on_click(self.on_button_press)\n",
    "        \n",
    "        display(box, self.button, self.plug)\n",
    "        \n",
    "    \n",
    "    def switch_led(self, led, on):\n",
    "        if led == '15' and on: self.led_15.set_trait(name='value', value=self.on_15)\n",
    "        if led == '15' and not on: self.led_15.set_trait(name='value', value=self.off_15) \n",
    "        if led == '30' and on: self.led_30.set_trait(name='value', value=self.on_30)\n",
    "        if led == '30' and not on: self.led_30.set_trait(name='value', value=self.off_30) \n",
    "        if led == '45' and on: self.led_45.set_trait(name='value', value=self.on_45)\n",
    "        if led == '45' and not on: self.led_45.set_trait(name='value', value=self.off_45) \n",
    "        if led == '60' and on: self.led_60.set_trait(name='value', value=self.on_60)\n",
    "        if led == '60' and not on: self.led_60.set_trait(name='value', value=self.off_60) \n",
    "            \n",
    "    def switch_plug(self, on):\n",
    "        if on: self.plug.set_trait(name='value', value=self.plug_on)\n",
    "        else: self.plug.set_trait(name='value', value=self.plug_off) "
   ]
  },
  {
   "cell_type": "code",
   "execution_count": null,
   "metadata": {},
   "outputs": [],
   "source": []
  }
 ],
 "metadata": {
  "kernelspec": {
   "display_name": "stmpy",
   "language": "python",
   "name": "stmpy"
  },
  "language_info": {
   "codemirror_mode": {
    "name": "ipython",
    "version": 3
   },
   "file_extension": ".py",
   "mimetype": "text/x-python",
   "name": "python",
   "nbconvert_exporter": "python",
   "pygments_lexer": "ipython3",
   "version": "3.9.1"
  }
 },
 "nbformat": 4,
 "nbformat_minor": 4
}
