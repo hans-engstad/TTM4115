{
 "cells": [
  {
   "cell_type": "code",
   "execution_count": null,
   "metadata": {},
   "outputs": [],
   "source": [
    "from stmpy import Machine, Driver\n",
    "from IPython.display import display\n",
    "import ipywidgets as widgets\n",
    "\n",
    "class HeadLight:\n",
    "    \n",
    "    # callback method, called by the button 'switch' when it is pressed\n",
    "    def on_value_change(self, change):\n",
    "        if change['new']:\n",
    "            self.stm.send('hand')\n",
    "        else:\n",
    "            self.stm.send('no_hand')\n",
    "    \n",
    "    # called by the initial transition\n",
    "    def __init__(self):\n",
    "        # load images and store them\n",
    "        self.yellow_on = open(\"images/yellow_on.png\", \"rb\").read()\n",
    "        self.yellow_off = open(\"images/yellow_off.png\", \"rb\").read()\n",
    "        # a checkbox to symbolize the IR sensor\n",
    "        self.checkbox = widgets.Checkbox(value=False, description='Hand in front of sensor')\n",
    "        self.checkbox.observe(self.on_value_change, names='value')\n",
    "        # an image of a yellow light\n",
    "        self.yellow = widgets.Image(value=self.yellow_off, format='png', width=50, height=50)\n",
    "        # display everything\n",
    "        display(self.yellow, self.checkbox)\n",
    "    \n",
    "    # called by our transition to turn the light on\n",
    "    def on(self):\n",
    "        # switch on the yellow light\n",
    "        self.yellow.set_trait(name='value', value=self.yellow_on)\n",
    "    \n",
    "    # called by our transition to turn the light on\n",
    "    def off(self):\n",
    "        # switch off the yellow light\n",
    "        self.yellow.set_trait(name='value', value=self.yellow_off)\n",
    "        \n",
    "head_light = HeadLight()"
   ]
  }
 ],
 "metadata": {
  "kernelspec": {
   "display_name": "Python 3.8.0 32-bit",
   "name": "python380jvsc74a57bd0d7a37daed4bdeca501276e3ec44aa3b43e8e948cb7222c411c42173dce3160b4"
  },
  "language_info": {
   "name": "python",
   "version": ""
  },
  "metadata": {
   "interpreter": {
    "hash": "d7a37daed4bdeca501276e3ec44aa3b43e8e948cb7222c411c42173dce3160b4"
   }
  }
 },
 "nbformat": 4,
 "nbformat_minor": 2
}