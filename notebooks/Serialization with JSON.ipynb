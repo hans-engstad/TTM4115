{
 "cells": [
  {
   "cell_type": "markdown",
   "metadata": {},
   "source": [
    "# Serialization with JSON\n",
    "\n",
    "To send data over a channel, we need to serialize it, that means, we need to create a sequence of bytes out of it. For many protocols and libraries, it is sufficient to create a string out of the data, the API of the protocol then takes care of the transmission.\n",
    "\n",
    "There are many ways to serialize data into a string. Two of the most commonly used in engineering are:\n",
    "* **XML**: A language for structured data that looks a lot like html, because elements are written as `<node attribute=\"value\">...</node>`\n",
    "* **JSON**: Another language, originally inspired by JavaScript, that resembles very much Python dicts. **This is what we are going to look at closer in the following.**\n",
    "\n",
    "Let's first import the json library:"
   ]
  },
  {
   "cell_type": "code",
   "execution_count": 1,
   "metadata": {
    "collapsed": true
   },
   "outputs": [],
   "source": [
    "import json"
   ]
  },
  {
   "cell_type": "markdown",
   "metadata": {},
   "source": [
    "## Serializing Data\n",
    "\n",
    "Let's define some data in the form of Python dicts:"
   ]
  },
  {
   "cell_type": "code",
   "execution_count": 12,
   "metadata": {
    "collapsed": true
   },
   "outputs": [],
   "source": [
    "weight = {'value': 1650, 'unit':'kg'}\n",
    "\n",
    "register_car = {'id':'register_car', \n",
    "           'card_id':'1234', \n",
    "            'weight': weight, \n",
    "            'passed': True, \n",
    "    'recycling_type': None}"
   ]
  },
  {
   "cell_type": "markdown",
   "metadata": {},
   "source": [
    "The data above is from a system of recycling stations where a care is weighted, a payment dard registered. The customer can optionally register the type of waste to recycle. Note that we have defined the weight here as its own dictionary, just to show how composite dictionaries can work."
   ]
  },
  {
   "cell_type": "markdown",
   "metadata": {},
   "source": [
    "The json library can take a dict and generate a string from it:"
   ]
  },
  {
   "cell_type": "code",
   "execution_count": 14,
   "metadata": {},
   "outputs": [
    {
     "name": "stdout",
     "output_type": "stream",
     "text": [
      "{\"id\": \"register_car\", \"card_id\": \"1234\", \"weight\": {\"value\": 1650, \"unit\": \"kg\"}, \"passed\": true, \"recycling_type\": null}\n"
     ]
    }
   ],
   "source": [
    "payload = json.dumps(register_car)\n",
    "print(payload)"
   ]
  },
  {
   "cell_type": "markdown",
   "metadata": {},
   "source": [
    "That *almost* looks like the original Python dict. This, however, is now a json document that can be read easily by other systems that rone something other than Python. (Json libraries are available for all programming languages worth using.) \n",
    "\n",
    "Note the following differences:\n",
    "- the weight element is expanded and completely contained in the string\n",
    "- The `True` value is now spelled `true`.\n",
    "- The `None` value is now spelled `null`.\n",
    "\n",
    "The payload string is the string that you can send, for instance via HTTP or MQTT."
   ]
  },
  {
   "cell_type": "markdown",
   "metadata": {},
   "source": [
    "## Deserializing Data\n",
    "\n",
    "At the receiver side, the library to handle communication will provide you with the bytes or the string of the payload. You just have to unwrap it, using the `json.loads()` function:"
   ]
  },
  {
   "cell_type": "code",
   "execution_count": 15,
   "metadata": {
    "collapsed": true
   },
   "outputs": [],
   "source": [
    "message_payload_receiver = json.loads(payload)"
   ]
  },
  {
   "cell_type": "code",
   "execution_count": 16,
   "metadata": {},
   "outputs": [
    {
     "data": {
      "text/plain": [
       "{'card_id': '1234',\n",
       " 'id': 'register_car',\n",
       " 'passed': True,\n",
       " 'recycling_type': None,\n",
       " 'weight': {'unit': 'kg', 'value': 1650}}"
      ]
     },
     "execution_count": 16,
     "metadata": {},
     "output_type": "execute_result"
    }
   ],
   "source": [
    "message_payload_receiver"
   ]
  },
  {
   "cell_type": "markdown",
   "metadata": {},
   "source": [
    "After the deserialization, the data is a dict again, so that you can easily acess the different values of it."
   ]
  },
  {
   "cell_type": "code",
   "execution_count": 17,
   "metadata": {},
   "outputs": [
    {
     "name": "stdout",
     "output_type": "stream",
     "text": [
      "<class 'dict'>\n"
     ]
    }
   ],
   "source": [
    "print(type(message_payload_receiver))"
   ]
  },
  {
   "cell_type": "code",
   "execution_count": 18,
   "metadata": {},
   "outputs": [
    {
     "data": {
      "text/plain": [
       "'register_car'"
      ]
     },
     "execution_count": 18,
     "metadata": {},
     "output_type": "execute_result"
    }
   ],
   "source": [
    "message_payload_receiver['id']"
   ]
  },
  {
   "cell_type": "code",
   "execution_count": null,
   "metadata": {
    "collapsed": true
   },
   "outputs": [],
   "source": []
  }
 ],
 "metadata": {
  "kernelspec": {
   "display_name": "Python 3",
   "language": "python",
   "name": "python3"
  },
  "language_info": {
   "codemirror_mode": {
    "name": "ipython",
    "version": 3
   },
   "file_extension": ".py",
   "mimetype": "text/x-python",
   "name": "python",
   "nbconvert_exporter": "python",
   "pygments_lexer": "ipython3",
   "version": "3.6.3"
  }
 },
 "nbformat": 4,
 "nbformat_minor": 2
}
